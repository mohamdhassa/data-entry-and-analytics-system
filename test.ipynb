{
 "cells": [
  {
   "cell_type": "code",
   "execution_count": 7,
   "metadata": {},
   "outputs": [
    {
     "name": "stdout",
     "output_type": "stream",
     "text": [
      "Enter data for a new row:\n",
      "Data saved to output.csv\n"
     ]
    }
   ],
   "source": [
    "import csv\n",
    "import datetime\n",
    "\n",
    "# Check if the CSV file exists\n",
    "try:\n",
    "    with open('output.csv', 'r') as csvfile:\n",
    "        reader = csv.DictReader(csvfile)\n",
    "        data = [row for row in reader]\n",
    "        next_id = len(data) + 1\n",
    "except FileNotFoundError:\n",
    "    data = []\n",
    "    next_id = 1\n",
    "\n",
    "# Collect data row by row\n",
    "while True:\n",
    "    print(\"Enter data for a new row:\")\n",
    "    first_name = input(\"First name (or leave blank for NULL): \")\n",
    "    last_name = input(\"Last name (or leave blank for NULL): \")\n",
    "    price = input(\"Price (enter a number only): \")\n",
    "    Sale = input(\"sale (enter a number only): \")\n",
    "\n",
    "    # Handle empty inputs\n",
    "    if first_name.strip() == '':\n",
    "        first_name = 'NULL'\n",
    "    if last_name.strip() == '':\n",
    "        last_name = 'NULL'\n",
    "\n",
    "    # Validate the price input\n",
    "    while True:\n",
    "        try:\n",
    "            price = float(price)\n",
    "            break\n",
    "        except ValueError:\n",
    "            price = input(\"Wrong input. Enter the price as a number: \")\n",
    "\n",
    "    # Validate the sale input\n",
    "    while True:\n",
    "        try:\n",
    "            Sale = float(Sale)\n",
    "            break\n",
    "        except ValueError:\n",
    "            Sale = input(\"Wrong input. Enter the sale as a number: \")\n",
    "\n",
    "    # Get the current timestamp\n",
    "    input_time = datetime.datetime.now()\n",
    "\n",
    "    # Add the row to the data list\n",
    "    data.append({'ID': next_id, 'First Name': first_name, 'Last Name': last_name, 'Price': price, 'Sale': Sale, 'Input Time': input_time.strftime('%Y-%m-%d %H:%M:%S')})\n",
    "\n",
    "    # Increment the next ID\n",
    "    next_id += 1\n",
    "\n",
    "    # Ask the user if they want to add another row\n",
    "    another_row = input(\"Do you want to add another row? (y/n) \")\n",
    "    if another_row.lower() != 'y':\n",
    "        break\n",
    "\n",
    "# Write the data to a CSV file\n",
    "with open('output.csv', 'w', newline='') as csvfile:\n",
    "    fieldnames = ['ID', 'First Name', 'Last Name', 'Price', 'Sale', 'Input Time']\n",
    "    writer = csv.DictWriter(csvfile, fieldnames=fieldnames)\n",
    "\n",
    "    writer.writeheader()\n",
    "    for row in data:\n",
    "        writer.writerow(row)\n",
    "\n",
    "print(\"Data saved to output.csv\")\n"
   ]
  },
  {
   "cell_type": "code",
   "execution_count": null,
   "metadata": {},
   "outputs": [],
   "source": []
  }
 ],
 "metadata": {
  "kernelspec": {
   "display_name": "base",
   "language": "python",
   "name": "python3"
  },
  "language_info": {
   "codemirror_mode": {
    "name": "ipython",
    "version": 3
   },
   "file_extension": ".py",
   "mimetype": "text/x-python",
   "name": "python",
   "nbconvert_exporter": "python",
   "pygments_lexer": "ipython3",
   "version": "3.12.4"
  }
 },
 "nbformat": 4,
 "nbformat_minor": 2
}
