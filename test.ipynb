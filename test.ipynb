{
 "cells": [
  {
   "cell_type": "code",
   "execution_count": 9,
   "metadata": {},
   "outputs": [
    {
     "name": "stdout",
     "output_type": "stream",
     "text": [
      "Enter data for a new row:\n",
      "Data saved to output.csv\n"
     ]
    }
   ],
   "source": [
    "\n",
    "import csv\n",
    "import datetime\n",
    "\n",
    "# Check if the CSV file exists\n",
    "try:\n",
    "    with open('output.csv', 'r') as csvfile:\n",
    "        reader = csv.DictReader(csvfile)\n",
    "        data = [row for row in reader]\n",
    "        next_id = len(data) + 1\n",
    "except FileNotFoundError:\n",
    "    data = []\n",
    "    next_id = 1\n",
    "\n",
    "# Collect data row by row\n",
    "while True:\n",
    "    print(\"Enter data for a new row:\")\n",
    "    Credit_score = input(\"credit_score (or leave blank for NULL): \")\n",
    "    Country = input(\"country (or leave blank for NULL): \")\n",
    "    Gender = input(\"gender (or leave blank for NULL): \")\n",
    "    Age = input(\"age (or leave blank for NULL): \")\n",
    "    Tenure = input(\"tenure (or leave blank for NULL): \")\n",
    "    Balance = input(\"balance (or leave blank for NULL): \")\n",
    "    Credit_card = input(\"credit_card (or leave blank for NULL): \")\n",
    "    Active_member = input(\"active_member(enter a number only)\")\n",
    "    Estimated_salary = input(\"estimated_salary(enter a number only)\")\n",
    "    Churn = input(\"churn(enter a number only)\")\n",
    "    Products_number = input(\"products_number(enter a number only)\")\n",
    "\n",
    "    # Handle empty inputs\n",
    "    if Credit_score.strip() == '':\n",
    "        Credit_score = 'NULL'\n",
    "\n",
    "    if Country.strip() == '':\n",
    "        Country = 'NULL'\n",
    "\n",
    "\n",
    "    if Gender.strip() == '':\n",
    "        Gender = 'NULL'\n",
    "\n",
    "\n",
    "\n",
    "    if Age.strip() == '':\n",
    "        Age = 'NULL'\n",
    "\n",
    "    if Tenure.strip() == '':\n",
    "        Tenure = 'NULL'\n",
    "\n",
    "\n",
    "    if Balance.strip() == '':\n",
    "        Balance = 'NULL'\n",
    "    \n",
    "    if Credit_card.strip() == '':\n",
    "        Credit_card = 'NULL'\n",
    "\n",
    "\n",
    "    if Active_member.strip() == '':\n",
    "        Active_member = 'NULL'\n",
    "\n",
    "    if Estimated_salary.strip() == '':\n",
    "        Estimated_salary = 'NULL'\n",
    "\n",
    "\n",
    "    if Churn.strip() == '':\n",
    "        Churn = 'NULL'\n",
    "\n",
    "    if Products_number.strip() == '':\n",
    "        Products_number = 'NULL'\n",
    "    #input_time = datetime.datetime.now()\n",
    "\n",
    "    # Add the row to the data list\n",
    "    data.append({'customer_id': next_id, 'credit_score':Credit_score, 'country': Country,\n",
    "                  'gender': Gender, 'age': Age,'tenure': Tenure,'balance':Balance,'credit_card': Credit_card,\n",
    "                  'active_member':Active_member,'estimated_salary':Estimated_salary,'products_number':Products_number,'churn':Churn}) #'Input Time': input_time.strftime('%Y-%m-%d %H:%M:%S')})\n",
    "\n",
    "    # Increment the next ID\n",
    "    next_id += 1\n",
    "\n",
    "    # Ask the user if they want to add another row\n",
    "    another_row = input(\"Do you want to add another row? (y/n) \")\n",
    "    if another_row.lower() != 'y':\n",
    "        break\n",
    "\n",
    "# Write the data to a CSV file\n",
    "with open('output.csv', 'w', newline='') as csvfile:\n",
    "    fieldnames = ['customer_id',\t'credit_score',\t'country',\t'gender',\t'age',\t'tenure',\t'balance',\t'products_number',\t'credit_card',\t'active_member',\t'estimated_salary',\t'churn'\n",
    "]\n",
    "    writer = csv.DictWriter(csvfile, fieldnames=fieldnames)\n",
    "\n",
    "    writer.writeheader()\n",
    "    for row in data:\n",
    "        writer.writerow(row)\n",
    "\n",
    "print(\"Data saved to output.csv\")\n",
    "\n",
    " "
   ]
  },
  {
   "cell_type": "code",
   "execution_count": 8,
   "metadata": {},
   "outputs": [
    {
     "name": "stdout",
     "output_type": "stream",
     "text": [
      "Plot saved to 'output.png'.\n"
     ]
    },
    {
     "data": {
      "image/png": "[encoded data removed]",
      "text/plain": [
       "<Figure size 640x480 with 1 Axes>"
      ]
     },
     "metadata": {},
     "output_type": "display_data"
    }
   ],
   "source": []
  },
  {
   "cell_type": "code",
   "execution_count": null,
   "metadata": {},
   "outputs": [],
   "source": []
  }
 ],
 "metadata": {
  "kernelspec": {
   "display_name": "base",
   "language": "python",
   "name": "python3"
  },
  "language_info": {
   "codemirror_mode": {
    "name": "ipython",
    "version": 3
   },
   "file_extension": ".py",
   "mimetype": "text/x-python",
   "name": "python",
   "nbconvert_exporter": "python",
   "pygments_lexer": "ipython3",
   "version": "3.12.4"
  }
 },
 "nbformat": 4,
 "nbformat_minor": 2
}
